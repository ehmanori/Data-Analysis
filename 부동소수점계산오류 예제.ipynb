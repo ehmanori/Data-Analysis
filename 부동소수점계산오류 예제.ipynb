import numpy as np
import pandas as pd

# Set seed for reproducibility
np.random.seed(43)

# Generate random heights (in cm) and weights (in pounds)
num_samples = 20
min_height_cm = 150  # Minimum height in cm
max_height_cm = 190  # Maximum height in cm
min_weight_kg = 40  # Minimum weight in pounds
max_weight_kg = 120  # Maximum weight in pounds

random_heights_cm = np.random.randint(min_height_cm, max_height_cm + 1, num_samples)
random_weights_lb = np.random.randint(min_weight_lb, max_weight_lb + 1, num_samples)

# Create a DataFrame to store the generated data
data = {
    'Height (cm)': random_heights_cm,
    'Weight (kg)': random_weights_lb
}
df = pd.DataFrame(data)

# Calculate BMI values using the provided formulas
df['bmi_1'] = df['Weight (kg)'] / (df['Height (cm)']*df['Height (cm)'] / 100/100)
df['bmi_2'] = df['Weight (kg)'] / ((df['Height (cm)'] / 100) * (df['Height (cm)'] / 100))

# Compare bmi_1 and bmi_2 and add a new column with Y if equal, N if different
df['BMI Comparison'] = np.where(df['bmi_1'] == df['bmi_2'], 'Y', 'N')

decimal_places = 20  # Change this to your desired number of decimal places
pd.set_option('display.precision', decimal_places)

# Display the DataFrame
df[df['BMI Comparison']=='N']
